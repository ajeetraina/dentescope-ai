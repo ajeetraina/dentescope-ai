{
 "cells": [
  {
   "cell_type": "markdown",
   "metadata": {},
   "source": [
    "# 🦷 Dental X-Ray Detection Model Training\n",
    "## Using YOLOv8 on Google Colab (FREE)\n",
    "\n",
    "This notebook trains an object detection model for panoramic dental X-rays."
   ]
  },
  {
   "cell_type": "markdown",
   "metadata": {},
   "source": [
    "## 1️⃣ Setup Environment"
   ]
  },
  {
   "cell_type": "code",
   "execution_count": null,
   "metadata": {},
   "outputs": [],
   "source": [
    "# Check if GPU is available\n",
    "!nvidia-smi"
   ]
  },
  {
   "cell_type": "code",
   "execution_count": null,
   "metadata": {},
   "outputs": [],
   "source": [
    "# Install required packages\n",
    "!pip install ultralytics roboflow -q\n",
    "print(\"✅ Installation complete!\")"
   ]
  },
  {
   "cell_type": "markdown",
   "metadata": {},
   "source": [
    "## 2️⃣ Download Dataset from Roboflow"
   ]
  },
  {
   "cell_type": "code",
   "execution_count": null,
   "metadata": {},
   "outputs": [],
   "source": [
    "from roboflow import Roboflow\n",
    "import os\n",
    "\n",
    "# Initialize Roboflow\n",
    "rf = Roboflow(api_key=\"YOUR_API_KEY\")  # Replace with your API key\n",
    "\n",
    "# Download your dataset\n",
    "print(\"📥 Downloading dataset...\")\n",
    "project = rf.workspace(\"dental-yvybz\").project(\"panoramic-xray-mk1hj-fh78n\")\n",
    "dataset = project.version(1).download(\"yolov8\")\n",
    "\n",
    "print(f\"✅ Dataset downloaded to: {dataset.location}\")"
   ]
  },
  {
   "cell_type": "markdown",
   "metadata": {},
   "source": [
    "## 3️⃣ Train the Model"
   ]
  },
  {
   "cell_type": "code",
   "execution_count": null,
   "metadata": {},
   "outputs": [],
   "source": [
    "from ultralytics import YOLO\n",
    "\n",
    "# Initialize YOLOv8 model\n",
    "model = YOLO('yolov8n.pt')  # nano model - fast training\n",
    "# For better accuracy, use: YOLO('yolov8m.pt') or YOLO('yolov8l.pt')\n",
    "\n",
    "# Train the model\n",
    "print(\"🚀 Starting training...\")\n",
    "results = model.train(\n",
    "    data=f\"{dataset.location}/data.yaml\",\n",
    "    epochs=50,  # Increase for better accuracy (100-200)\n",
    "    imgsz=640,\n",
    "    batch=16,\n",
    "    name='dental_xray_detector',\n",
    "    patience=10,  # Early stopping\n",
    "    save=True,\n",
    "    plots=True\n",
    ")\n",
    "\n",
    "print(\"✅ Training complete!\")"
   ]
  },
  {
   "cell_type": "markdown",
   "metadata": {},
   "source": [
    "## 4️⃣ Evaluate the Model"
   ]
  },
  {
   "cell_type": "code",
   "execution_count": null,
   "metadata": {},
   "outputs": [],
   "source": [
    "# Validate the trained model\n",
    "metrics = model.val()\n",
    "\n",
    "print(f\"\\n📊 Model Performance:\")\n",
    "print(f\"mAP50: {metrics.box.map50:.3f}\")\n",
    "print(f\"mAP50-95: {metrics.box.map:.3f}\")\n",
    "print(f\"Precision: {metrics.box.mp:.3f}\")\n",
    "print(f\"Recall: {metrics.box.mr:.3f}\")"
   ]
  },
  {
   "cell_type": "markdown",
   "metadata": {},
   "source": [
    "## 5️⃣ Test on Sample Images"
   ]
  },
  {
   "cell_type": "code",
   "execution_count": null,
   "metadata": {},
   "outputs": [],
   "source": [
    "from IPython.display import Image, display\n",
    "import glob\n",
    "\n",
    "# Get test images\n",
    "test_images = glob.glob(f\"{dataset.location}/test/images/*.jpg\")[:5]\n",
    "\n",
    "print(f\"🔍 Testing on {len(test_images)} sample images...\\n\")\n",
    "\n",
    "for img_path in test_images:\n",
    "    # Run inference\n",
    "    results = model.predict(img_path, conf=0.4)\n",
    "    \n",
    "    # Display result\n",
    "    result_img = results[0].plot()\n",
    "    \n",
    "    # Save and display\n",
    "    save_path = f\"result_{os.path.basename(img_path)}\"\n",
    "    results[0].save(save_path)\n",
    "    \n",
    "    print(f\"Image: {os.path.basename(img_path)}\")\n",
    "    print(f\"Detections: {len(results[0].boxes)}\")\n",
    "    display(Image(filename=save_path))\n",
    "    print(\"\\n\" + \"=\"*50 + \"\\n\")"
   ]
  },
  {
   "cell_type": "markdown",
   "metadata": {},
   "source": [
    "## 6️⃣ Export Model Weights"
   ]
  },
  {
   "cell_type": "code",
   "execution_count": null,
   "metadata": {},
   "outputs": [],
   "source": [
    "import shutil\n",
    "\n",
    "# Find the best model weights\n",
    "best_model_path = \"runs/detect/dental_xray_detector/weights/best.pt\"\n",
    "\n",
    "print(f\"📦 Best model saved at: {best_model_path}\")\n",
    "print(\"\\n💾 To download:\")\n",
    "print(\"1. Click the folder icon on the left\")\n",
    "print(\"2. Navigate to runs/detect/dental_xray_detector/weights/\")\n",
    "print(\"3. Right-click 'best.pt' and select 'Download'\")\n",
    "\n",
    "# Create a zip file for easy download\n",
    "!zip -r dental_xray_model.zip runs/detect/dental_xray_detector/\n",
    "print(\"\\n✅ Created dental_xray_model.zip with all training results\")"
   ]
  },
  {
   "cell_type": "markdown",
   "metadata": {},
   "source": [
    "## 7️⃣ Export for Deployment (Optional)"
   ]
  },
  {
   "cell_type": "code",
   "execution_count": null,
   "metadata": {},
   "outputs": [],
   "source": [
    "# Export to different formats\n",
    "print(\"🔄 Exporting to ONNX format...\")\n",
    "model.export(format='onnx')\n",
    "\n",
    "print(\"🔄 Exporting to TorchScript format...\")\n",
    "model.export(format='torchscript')\n",
    "\n",
    "print(\"✅ Export complete!\")"
   ]
  },
  {
   "cell_type": "markdown",
   "metadata": {},
   "source": [
    "## 8️⃣ Download to Google Drive (Optional)"
   ]
  },
  {
   "cell_type": "code",
   "execution_count": null,
   "metadata": {},
   "outputs": [],
   "source": [
    "# Mount Google Drive\n",
    "from google.colab import drive\n",
    "drive.mount('/content/drive')\n",
    "\n",
    "# Copy model to Google Drive\n",
    "!cp -r runs/detect/dental_xray_detector /content/drive/MyDrive/\n",
    "!cp dental_xray_model.zip /content/drive/MyDrive/\n",
    "\n",
    "print(\"✅ Model saved to Google Drive!\")"
   ]
  }
 ],
 "metadata": {
  "accelerator": "GPU",
  "colab": {
   "gpuType": "T4",
   "provenance": []
  },
  "kernelspec": {
   "display_name": "Python 3",
   "name": "python3"
  }
 },
 "nbformat": 4,
 "nbformat_minor": 0
}
